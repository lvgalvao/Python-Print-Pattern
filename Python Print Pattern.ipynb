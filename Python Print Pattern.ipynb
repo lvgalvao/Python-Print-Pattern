{
 "cells": [
  {
   "cell_type": "markdown",
   "id": "41f58272",
   "metadata": {},
   "source": [
    "### This notebook let you know how to print the following patterns in Python.\n",
    "\n",
    "Triangle pattern, Star (*) or asterisk pattern, Pyramid pattern, Inverted pyramid pattern\n",
    "Half pyramid pattern, Diamond Shaped pattern, Characters or alphabets pattern and Square pattern\n",
    "\n",
    "<img src=\"https://pynative.com/wp-content/uploads/2018/06/pattern_in_python.png\"/>"
   ]
  },
  {
   "cell_type": "code",
   "execution_count": 15,
   "id": "0070f00e",
   "metadata": {},
   "outputs": [
    {
     "name": "stdout",
     "output_type": "stream",
     "text": [
      "5\n"
     ]
    }
   ],
   "source": [
    "# Decide the number of rows\n",
    "row = int(input())"
   ]
  },
  {
   "cell_type": "code",
   "execution_count": 30,
   "id": "dde61c05",
   "metadata": {},
   "outputs": [
    {
     "name": "stdout",
     "output_type": "stream",
     "text": [
      "00000\n",
      "11111\n",
      "22222\n",
      "33333\n",
      "44444\n"
     ]
    }
   ],
   "source": [
    "#Square - Iterate rows\n",
    "for i in range(row):\n",
    "    #Iterate columns\n",
    "    for j in range(5):\n",
    "        #Print star or number\n",
    "        print(i, end=\"\")\n",
    "    #Add new line after each iteration of outer loop\n",
    "    print(\"\")"
   ]
  },
  {
   "cell_type": "code",
   "execution_count": 23,
   "id": "b6c127aa",
   "metadata": {},
   "outputs": [
    {
     "name": "stdout",
     "output_type": "stream",
     "text": [
      "\n",
      "1\n",
      "22\n",
      "333\n",
      "4444\n",
      "55555\n"
     ]
    }
   ],
   "source": [
    "#Triangle - Iterate rows\n",
    "#In this number pattern, we displayed a single digit on the first row, the next two digits of the second row, \n",
    "#And the following three numbers on the third row and this process will repeat till the number of rows reached.\n",
    "\n",
    "for i in range(row+1):\n",
    "    #Iterate columns\n",
    "    for j in range(i):\n",
    "        #Print star or number\n",
    "        print(i, end=\"\")\n",
    "    #Add new line after each iteration of outer loop\n",
    "    print(\"\")"
   ]
  },
  {
   "cell_type": "code",
   "execution_count": 25,
   "id": "040385a1",
   "metadata": {},
   "outputs": [
    {
     "name": "stdout",
     "output_type": "stream",
     "text": [
      "\n",
      "1\n",
      "12\n",
      "123\n",
      "1234\n",
      "12345\n"
     ]
    }
   ],
   "source": [
    "#Pyramid pattern -  In each row, every next number is incremented by 1.\n",
    "\n",
    "for i in range(row+1):\n",
    "    for j in range(i):\n",
    "        print(j+1, end=\"\")\n",
    "    print(\"\")"
   ]
  },
  {
   "cell_type": "code",
   "execution_count": 27,
   "id": "ec339196",
   "metadata": {},
   "outputs": [
    {
     "name": "stdout",
     "output_type": "stream",
     "text": [
      "11111\n",
      "2222\n",
      "333\n",
      "44\n",
      "5\n",
      "\n"
     ]
    }
   ],
   "source": [
    "#Inverted pyramid pattern of numbers\n",
    "#An inverted pyramid is a downward pattern where numbers get reduced in each iteration, \n",
    "#and on the last row, it shows only one number. Use reverse for loop to print this pattern.\n",
    "\n",
    "#1 1 1 1 1 \n",
    "#2 2 2 2 \n",
    "#3 3 3 \n",
    "#4 4 \n",
    "#5\n",
    "\n",
    "for i in range (row+1):\n",
    "    for j in range (row-i):\n",
    "        print(i+1, end=\"\")\n",
    "    print(\"\")\n"
   ]
  },
  {
   "cell_type": "code",
   "execution_count": 33,
   "id": "316a9220",
   "metadata": {},
   "outputs": [
    {
     "name": "stdout",
     "output_type": "stream",
     "text": [
      "55555\n",
      "5555\n",
      "555\n",
      "55\n",
      "5\n",
      "\n"
     ]
    }
   ],
   "source": [
    "#Inverted Pyramid pattern with the same digit\n",
    "\n",
    "\n",
    "#5 5 5 5 5 \n",
    "#5 5 5 5 \n",
    "#5 5 5 \n",
    "#5 5 \n",
    "#5\n",
    "\n",
    "for i in range (row+1):\n",
    "    for j in range (row-i):\n",
    "        print(row, end=\"\")\n",
    "    print(\"\")\n"
   ]
  },
  {
   "cell_type": "code",
   "execution_count": 36,
   "id": "a6537e7b",
   "metadata": {},
   "outputs": [
    {
     "name": "stdout",
     "output_type": "stream",
     "text": [
      "012345\n",
      "01234\n",
      "0123\n",
      "012\n",
      "01\n"
     ]
    }
   ],
   "source": [
    "#Another inverted half pyramid pattern with number\n",
    "\n",
    "\n",
    "#0 1 2 3 4 5 \n",
    "#0 1 2 3 4 \n",
    "#0 1 2 3 \n",
    "#0 1 2 \n",
    "#0 1\n",
    "\n",
    "for i in range (row):\n",
    "    for j in range (row+1-i):\n",
    "        print(j, end=\"\")\n",
    "    print(\"\")"
   ]
  },
  {
   "cell_type": "code",
   "execution_count": 38,
   "id": "c6f80634",
   "metadata": {},
   "outputs": [
    {
     "name": "stdout",
     "output_type": "stream",
     "text": [
      "1 \n",
      "3 3 \n",
      "5 5 5 \n",
      "7 7 7 7 \n",
      "9 9 9 9 9 \n"
     ]
    }
   ],
   "source": [
    "#Alternate numbers pattern using while loop\n",
    "\n",
    "\n",
    "#1 \n",
    "#3 3 \n",
    "#5 5 5 \n",
    "#7 7 7 7 \n",
    "#9 9 9 9 9\n",
    "\n",
    "i = 1\n",
    "while i <= row:\n",
    "    j = 1\n",
    "    while j <= i:\n",
    "        print((i * 2 - 1), end=\" \")\n",
    "        j = j + 1\n",
    "    i = i + 1\n",
    "    print('')"
   ]
  },
  {
   "cell_type": "code",
   "execution_count": 48,
   "id": "8ccbcc37",
   "metadata": {},
   "outputs": [
    {
     "name": "stdout",
     "output_type": "stream",
     "text": [
      "1 \n",
      "1 1 \n",
      "1 2 1 \n",
      "1 3 3 1 \n",
      "1 4 6 4 1 \n",
      "1 5 10 10 5 1 \n",
      "1 6 15 20 15 6 1 \n"
     ]
    }
   ],
   "source": [
    "#def print_pascal_triangle(size):\n",
    "#1 \n",
    "#1 1 \n",
    "#1 2 1 \n",
    "#1 3 3 1 \n",
    "#1 4 6 4 1 \n",
    "#1 5 10 10 5 1 \n",
    "#1 6 15 20 15 6 1\n",
    "\n",
    "def print_pascal_triangle(size):\n",
    "    for i in range(0, size):\n",
    "        for j in range(0, i + 1):\n",
    "            print(decide_number(i, j), end=\" \")\n",
    "        print()\n",
    "\n",
    "\n",
    "def decide_number(n, k):\n",
    "    num = 1\n",
    "    if k > n - k:\n",
    "        k = n - k\n",
    "    for i in range(0, k):\n",
    "        num = num * (n - i)\n",
    "        num = num // (i + 1)\n",
    "    return num\n",
    "\n",
    "# set rows\n",
    "rows = 7\n",
    "print_pascal_triangle(rows)"
   ]
  },
  {
   "cell_type": "code",
   "execution_count": 49,
   "id": "40d150bb",
   "metadata": {},
   "outputs": [
    {
     "name": "stdout",
     "output_type": "stream",
     "text": [
      "        * * * * * * \n",
      "         * * * * * \n",
      "          * * * * \n",
      "           * * * \n",
      "            * * \n",
      "             * \n"
     ]
    }
   ],
   "source": [
    "#        * * * * * * \n",
    "#         * * * * * \n",
    "#          * * * * \n",
    "#           * * * \n",
    "#            * * \n",
    "#             * \n",
    "\n",
    "rows = 5\n",
    "k = 2 * rows - 2\n",
    "for i in range(rows, -1, -1):\n",
    "    for j in range(k, 0, -1):\n",
    "        print(end=\" \")\n",
    "    k = k + 1\n",
    "    for j in range(0, i + 1):\n",
    "        print(\"*\", end=\" \")\n",
    "    print(\"\")"
   ]
  },
  {
   "cell_type": "code",
   "execution_count": 50,
   "id": "42dcc551",
   "metadata": {},
   "outputs": [
    {
     "name": "stdout",
     "output_type": "stream",
     "text": [
      "        * * * * * * \n",
      "         * * * * * \n",
      "          * * * * \n",
      "           * * * \n",
      "            * * \n",
      "             * \n"
     ]
    }
   ],
   "source": [
    "#Equilateral triangle pattern of star\n",
    "#            *   \n",
    "#           *  *   \n",
    "#          *  *  *   \n",
    "#         *  *  *  *   \n",
    "#        *  *  *  *  *   \n",
    "#       *  *  *  *  *  *   \n",
    "#      *  *  *  *  *  *  *   \n",
    "\n",
    "rows = 5\n",
    "k = 2 * rows - 2\n",
    "for i in range(rows, -1, -1):\n",
    "    for j in range(k, 0, -1):\n",
    "        print(end=\" \")\n",
    "    k = k + 1\n",
    "    for j in range(0, i + 1):\n",
    "        print(\"*\", end=\" \")\n",
    "    print(\"\")"
   ]
  },
  {
   "cell_type": "code",
   "execution_count": 52,
   "id": "ddffc440",
   "metadata": {},
   "outputs": [
    {
     "name": "stdout",
     "output_type": "stream",
     "text": [
      "* \r\n",
      "* * \r\n",
      "* * * \r\n",
      "* * * * \r\n",
      "* * * * * \r\n",
      "* * * * \r\n",
      "* * * \r\n",
      "* * \r\n",
      "* \r\n",
      "\r\n"
     ]
    }
   ],
   "source": [
    "#Right start pattern of star\n",
    "#* \n",
    "#* * \n",
    "#* * * \n",
    "#* * * * \n",
    "#* * * * * \n",
    "#* * * * \n",
    "#* * * \n",
    "#* * \n",
    "#*\n",
    "\n",
    "rows = 5\n",
    "for i in range(0, rows):\n",
    "    for j in range(0, i + 1):\n",
    "        print(\"*\", end=' ')\n",
    "    print(\"\\r\")\n",
    "\n",
    "for i in range(rows, 0, -1):\n",
    "    for j in range(0, i - 1):\n",
    "        print(\"*\", end=' ')\n",
    "    print(\"\\r\")"
   ]
  },
  {
   "cell_type": "code",
   "execution_count": 54,
   "id": "275b7434",
   "metadata": {},
   "outputs": [
    {
     "name": "stdout",
     "output_type": "stream",
     "text": [
      "* * * * * \n",
      " * * * * \n",
      "  * * * \n",
      "   * * \n",
      "    * \n",
      "    * \n",
      "   * * \n",
      "  * * * \n",
      " * * * * \n",
      "* * * * * \n"
     ]
    }
   ],
   "source": [
    "#Sandglass pattern of star\n",
    "#* * * * * \n",
    "# * * * * \n",
    "#  * * * \n",
    "#   * * \n",
    "#    * \n",
    "#    * \n",
    "#   * * \n",
    "#  * * * \n",
    "# * * * * \n",
    "#* * * * * \n",
    "\n",
    "rows = 5\n",
    "i = 0\n",
    "while i <= rows - 1:\n",
    "    j = 0\n",
    "    while j < i:\n",
    "        # display space\n",
    "        print('', end=' ')\n",
    "        j += 1\n",
    "    k = i\n",
    "    while k <= rows - 1:\n",
    "        print('*', end=' ')\n",
    "        k += 1\n",
    "    print()\n",
    "    i += 1\n",
    "\n",
    "i = rows - 1\n",
    "while i >= 0:\n",
    "    j = 0\n",
    "    while j < i:\n",
    "        print('', end=' ')\n",
    "        j += 1\n",
    "    k = i\n",
    "    while k <= rows - 1:\n",
    "        print('*', end=' ')\n",
    "        k += 1\n",
    "    print('')\n",
    "    i -= 1"
   ]
  },
  {
   "cell_type": "code",
   "execution_count": 56,
   "id": "b4af2ef8",
   "metadata": {},
   "outputs": [
    {
     "name": "stdout",
     "output_type": "stream",
     "text": [
      "        * \n",
      "       * * \n",
      "      * * * \n",
      "     * * * * \n",
      "    * * * * * \n",
      "   * * * * * * \n",
      "    * * * * * \n",
      "     * * * * \n",
      "      * * * \n",
      "       * * \n",
      "        * \n"
     ]
    }
   ],
   "source": [
    "#Diamond-shaped pattern of stars\n",
    "#        * \n",
    "#       * * \n",
    "#      * * * \n",
    "#     * * * * \n",
    "#    * * * * * \n",
    "#   * * * * * * \n",
    "#    * * * * * \n",
    "#     * * * * \n",
    "#      * * * \n",
    "#       * * \n",
    "#        * \n",
    "\n",
    "rows = 5\n",
    "k = 2 * rows - 2\n",
    "for i in range(0, rows):\n",
    "    for j in range(0, k):\n",
    "        print(end=\" \")\n",
    "    k = k - 1\n",
    "    for j in range(0, i + 1):\n",
    "        print(\"* \", end=\"\")\n",
    "    print(\"\")\n",
    "    \n",
    "k = rows - 2\n",
    "\n",
    "for i in range(rows, -1, -1):\n",
    "    for j in range(k, 0, -1):\n",
    "        print(end=\" \")\n",
    "    k = k + 1\n",
    "    for j in range(0, i + 1):\n",
    "        print(\"* \", end=\"\")\n",
    "    print(\"\")"
   ]
  },
  {
   "cell_type": "code",
   "execution_count": 57,
   "id": "4b74765d",
   "metadata": {},
   "outputs": [
    {
     "name": "stdout",
     "output_type": "stream",
     "text": [
      "P\n",
      "Py\n",
      "Pyt\n",
      "Pyth\n",
      "Pytho\n",
      "Python\n"
     ]
    }
   ],
   "source": [
    "#Pattern to display letter of the word\n",
    "\n",
    "word = \"Python\"\n",
    "x = \"\"\n",
    "for i in word:\n",
    "    x += i\n",
    "    print(x)"
   ]
  },
  {
   "cell_type": "code",
   "execution_count": null,
   "id": "ba57c6df",
   "metadata": {},
   "outputs": [],
   "source": []
  }
 ],
 "metadata": {
  "kernelspec": {
   "display_name": "Python 3 (ipykernel)",
   "language": "python",
   "name": "python3"
  },
  "language_info": {
   "codemirror_mode": {
    "name": "ipython",
    "version": 3
   },
   "file_extension": ".py",
   "mimetype": "text/x-python",
   "name": "python",
   "nbconvert_exporter": "python",
   "pygments_lexer": "ipython3",
   "version": "3.9.12"
  }
 },
 "nbformat": 4,
 "nbformat_minor": 5
}
